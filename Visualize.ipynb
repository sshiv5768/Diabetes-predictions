{
 "cells": [
  {
   "cell_type": "code",
   "execution_count": 8,
   "metadata": {},
   "outputs": [
    {
     "ename": "ModuleNotFoundError",
     "evalue": "No module named 'selenium'",
     "output_type": "error",
     "traceback": [
      "\u001b[1;31m---------------------------------------------------------------------------\u001b[0m",
      "\u001b[1;31mModuleNotFoundError\u001b[0m                       Traceback (most recent call last)",
      "\u001b[1;32m<ipython-input-8-8536a3a27e3e>\u001b[0m in \u001b[0;36m<module>\u001b[1;34m()\u001b[0m\n\u001b[0;32m      5\u001b[0m \u001b[1;32mimport\u001b[0m \u001b[0mdatetime\u001b[0m\u001b[1;33m\u001b[0m\u001b[0m\n\u001b[0;32m      6\u001b[0m \u001b[1;32mimport\u001b[0m \u001b[0mpytz\u001b[0m\u001b[1;33m\u001b[0m\u001b[0m\n\u001b[1;32m----> 7\u001b[1;33m \u001b[1;32mfrom\u001b[0m \u001b[0mselenium\u001b[0m \u001b[1;32mimport\u001b[0m \u001b[0mwebdriver\u001b[0m\u001b[1;33m\u001b[0m\u001b[0m\n\u001b[0m\u001b[0;32m      8\u001b[0m \u001b[1;32mfrom\u001b[0m \u001b[0mselenium\u001b[0m\u001b[1;33m.\u001b[0m\u001b[0mcommon\u001b[0m\u001b[1;33m.\u001b[0m\u001b[0mexceptions\u001b[0m \u001b[1;32mimport\u001b[0m \u001b[0mStaleElementReferenceException\u001b[0m\u001b[1;33m\u001b[0m\u001b[0m\n\u001b[0;32m      9\u001b[0m \u001b[1;32mimport\u001b[0m \u001b[0mos\u001b[0m\u001b[1;33m\u001b[0m\u001b[0m\n",
      "\u001b[1;31mModuleNotFoundError\u001b[0m: No module named 'selenium'"
     ]
    }
   ],
   "source": [
    "import lxml.html as lh\n",
    "import time\n",
    "import urllib.request\n",
    "import argparse\n",
    "import datetime\n",
    "import pytz\n",
    "from selenium import webdriver\n",
    "from selenium.common.exceptions import StaleElementReferenceException\n",
    "import os\n",
    "import coloredlogs"
   ]
  },
  {
   "cell_type": "code",
   "execution_count": 6,
   "metadata": {},
   "outputs": [
    {
     "ename": "ModuleNotFoundError",
     "evalue": "No module named 'docopt'",
     "output_type": "error",
     "traceback": [
      "\u001b[1;31m---------------------------------------------------------------------------\u001b[0m",
      "\u001b[1;31mModuleNotFoundError\u001b[0m                       Traceback (most recent call last)",
      "\u001b[1;32m<ipython-input-6-3723370cb7c7>\u001b[0m in \u001b[0;36m<module>\u001b[1;34m()\u001b[0m\n\u001b[1;32m----> 1\u001b[1;33m \u001b[1;32mfrom\u001b[0m \u001b[0mdocopt\u001b[0m \u001b[1;32mimport\u001b[0m \u001b[0mdocopt\u001b[0m\u001b[1;33m\u001b[0m\u001b[0m\n\u001b[0m\u001b[0;32m      2\u001b[0m \u001b[1;32mfrom\u001b[0m \u001b[0mtrading_bot\u001b[0m\u001b[1;33m.\u001b[0m\u001b[0mops\u001b[0m \u001b[1;32mimport\u001b[0m \u001b[0mget_state\u001b[0m\u001b[1;33m\u001b[0m\u001b[0m\n\u001b[0;32m      3\u001b[0m \u001b[1;32mfrom\u001b[0m \u001b[0mtrading_bot\u001b[0m\u001b[1;33m.\u001b[0m\u001b[0magent\u001b[0m \u001b[1;32mimport\u001b[0m \u001b[0mAgent\u001b[0m\u001b[1;33m\u001b[0m\u001b[0m\n\u001b[0;32m      4\u001b[0m \u001b[1;32mfrom\u001b[0m \u001b[0mtrading_bot\u001b[0m\u001b[1;33m.\u001b[0m\u001b[0mmethods\u001b[0m \u001b[1;32mimport\u001b[0m \u001b[0mevaluate_model\u001b[0m\u001b[1;33m\u001b[0m\u001b[0m\n\u001b[0;32m      5\u001b[0m from trading_bot.utils import (\n",
      "\u001b[1;31mModuleNotFoundError\u001b[0m: No module named 'docopt'"
     ]
    }
   ],
   "source": [
    "from docopt import docopt\n",
    "from trading_bot.ops import get_state\n",
    "from trading_bot.agent import Agent\n",
    "from trading_bot.methods import evaluate_model\n",
    "from trading_bot.utils import (\n",
    "    get_stock_data,\n",
    "    format_currency,\n",
    "    format_position,\n",
    "    show_eval_result,\n",
    "    switch_k_backend_device\n",
    ")"
   ]
  },
  {
   "cell_type": "code",
   "execution_count": null,
   "metadata": {},
   "outputs": [],
   "source": [
    "tz = pytz.timezone('Asia/Kolkata')"
   ]
  },
  {
   "cell_type": "code",
   "execution_count": null,
   "metadata": {},
   "outputs": [],
   "source": [
    "path1 = os.getcwd()\n",
    "path = path1 + '/chromedriver'"
   ]
  },
  {
   "cell_type": "code",
   "execution_count": null,
   "metadata": {},
   "outputs": [],
   "source": [
    "ignored_exceptions = (StaleElementReferenceException,)\n",
    "options = webdriver.ChromeOptions()\n",
    "options.add_argument('--no-sandbox')\n",
    "options.add_argument('--disable-dev-shm-usage')\n",
    "options.add_argument('--headless')\n",
    "options.add_experimental_option('excludeSwitches', ['enable-logging'])\n",
    "# options.add_argument(f'user-agent={userAgent}')\n",
    "driver = webdriver.Chrome(executable_path=path, options=options)"
   ]
  },
  {
   "cell_type": "markdown",
   "metadata": {},
   "source": [
    "This function returns the table of the given url"
   ]
  },
  {
   "cell_type": "code",
   "execution_count": null,
   "metadata": {},
   "outputs": [],
   "source": [
    "def Real(url, count):\n",
    "    if count == 0:\n",
    "        driver.get(url)\n",
    "        # print(driver)\n",
    "    else:\n",
    "        driver.refresh()\n",
    "        time.sleep(15)\n",
    "    infile = driver.page_source\n",
    "    doc = lh.fromstring(infile)\n",
    "    live = doc.xpath('/html/body/div[1]/div/div/div[1]/div/div[2]/div/div/div[4]/div/div/div/div[3]/div/div/span[1]')\n",
    "    live = float(live[0].text.replace(',', ''))\n",
    "    return live"
   ]
  },
  {
   "cell_type": "code",
   "execution_count": null,
   "metadata": {},
   "outputs": [],
   "source": [
    "def main(args):\n",
    "    count = 0\n",
    "    total_profit = 0\n",
    "    t = 0\n",
    "    history = []\n",
    "    reward = 0\n",
    "    ticker = args.ticker + '.NS'\n",
    "    price = []\n",
    "    window_size = 10\n",
    "    time_now = datetime.datetime.now(tz).time()\n",
    "    while (datetime.time(9, 14, tzinfo=tz) < time_now < datetime.time(15, 31, tzinfo=tz)):\n",
    "        url = 'https://finance.yahoo.com/quote/{}?p={}&.tsrc=fin-srch'.format(ticker, ticker)\n",
    "        print(count)\n",
    "        live = Real(url, count)\n",
    "        count += 1\n",
    "        price.append(live)\n",
    "        if count < window_size:\n",
    "            continue\n",
    "        model_name = 'model_debug_50'\n",
    "        print(live)\n",
    "        initial_offset = price[1] - price[0]\n",
    "        state = get_state(price, 0, window_size + 1)\n",
    "        next_state = get_state(price, t + 1, window_size + 1)\n",
    "        agent = Agent(state_size=window_size, pretrained=True, model_name=model_name)\n",
    "        agent.inventory = []\n",
    "        profit = evaluate_model(agent, state, next_state, price, t, total_profit, history, reward,\n",
    "                                window_size=window_size)\n",
    "        show_eval_result(model_name, profit, initial_offset)\n",
    "        t += 1\n",
    "        state = next_state"
   ]
  },
  {
   "cell_type": "code",
   "execution_count": null,
   "metadata": {},
   "outputs": [],
   "source": [
    "def evaluate_model(agent, state, next_state, data, t, total_profit, history, reward, window_size, debug=False):\n",
    "    print(t)\n",
    "    # select an action\n",
    "    action = agent.act(state, is_eval=True)\n",
    "\n",
    "    # BUY\n",
    "    if action == 1:\n",
    "        agent.inventory.append(data[t])\n",
    "        history.append((data[t], \"BUY\"))\n",
    "        if debug:\n",
    "            logging.debug(\"Buy at: {}\".format(format_currency(data[t])))\n",
    "\n",
    "        # SELL\n",
    "    elif action == 2 and len(agent.inventory) > 0:\n",
    "        bought_price = agent.inventory.pop(0)\n",
    "        delta = data[t] - bought_price\n",
    "        reward = delta  # max(delta, 0)\n",
    "        total_profit += delta\n",
    "        history.append((data[t], \"SELL\"))\n",
    "        if debug:\n",
    "            logging.debug(\"Sell at: {} | Position: {}\".format(\n",
    "                format_currency(data[t]), format_position(data[t] - bought_price)))\n",
    "        # HOLD\n",
    "    else:\n",
    "        history.append((data[t], \"HOLD\"))\n",
    "\n",
    "    #        done = (t == data_length - 1)\n",
    "    agent.memory.append((state, action, reward, next_state))\n",
    "    return total_profit"
   ]
  },
  {
   "cell_type": "code",
   "execution_count": null,
   "metadata": {},
   "outputs": [],
   "source": [
    "if __name__ == \"__main__\":\n",
    "    parser = argparse.ArgumentParser()\n",
    "    parser.add_argument('ticker', help='ticker')\n",
    "    args = parser.parse_args()\n",
    "    coloredlogs.install(level=\"DEBUG\")\n",
    "    switch_k_backend_device()\n",
    "    try:\n",
    "        main(args)\n",
    "    except KeyboardInterrupt:\n",
    "        print(\"Aborted\")"
   ]
  }
 ],
 "metadata": {
  "kernelspec": {
   "display_name": "Python 3",
   "language": "python",
   "name": "python3"
  },
  "language_info": {
   "codemirror_mode": {
    "name": "ipython",
    "version": 3
   },
   "file_extension": ".py",
   "mimetype": "text/x-python",
   "name": "python",
   "nbconvert_exporter": "python",
   "pygments_lexer": "ipython3",
   "version": "3.6.4"
  }
 },
 "nbformat": 4,
 "nbformat_minor": 2
}
